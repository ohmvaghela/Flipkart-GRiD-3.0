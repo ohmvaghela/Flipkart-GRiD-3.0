{
 "cells": [
  {
   "cell_type": "code",
   "execution_count": 1,
   "metadata": {},
   "outputs": [],
   "source": [
    "import cv2\n",
    "import time\n",
    "import numpy as np\n",
    "import matplotlib.pyplot as plt\n",
    "from sklearn.decomposition import PCA\n"
   ]
  },
  {
   "cell_type": "code",
   "execution_count": 2,
   "metadata": {},
   "outputs": [],
   "source": [
    "\n",
    "matrix = np.zeros((10000,100))\n",
    "for i in range(1,51,1):\n",
    "    temp = cv2.imread(f'C:/Users/OHM/Desktop/ML_training/training_data/circles/{i}.png')\n",
    "    gray = cv2.cvtColor(temp, cv2.COLOR_BGR2GRAY)\n",
    "    _,thresh = cv2.threshold(gray, 10, 255, cv2.THRESH_BINARY_INV)\n",
    "    flat = np.ravel(thresh)\n",
    "    matrix[:,i-1] = flat \n",
    "\n",
    "for i in range(1,51,1):\n",
    "    temp = cv2.imread(f'C:/Users/OHM/Desktop/ML_training/training_data/triangle/{i}.png')\n",
    "    gray = cv2.cvtColor(temp, cv2.COLOR_BGR2GRAY)\n",
    "    _,thresh = cv2.threshold(gray, 10, 255, cv2.THRESH_BINARY_INV)\n",
    "    flat = np.ravel(thresh)\n",
    "    matrix[:,i+49] = flat \n",
    "\n"
   ]
  },
  {
   "cell_type": "code",
   "execution_count": null,
   "metadata": {},
   "outputs": [],
   "source": [
    "shifted_matrix = matrix - matrix.mean"
   ]
  },
  {
   "cell_type": "code",
   "execution_count": null,
   "metadata": {},
   "outputs": [],
   "source": []
  }
 ],
 "metadata": {
  "interpreter": {
   "hash": "11860fa462470fdd9e5d1fcccf6df14d869cca85932e91de0e75d95c6486502b"
  },
  "kernelspec": {
   "display_name": "Python 3",
   "language": "python",
   "name": "python3"
  },
  "language_info": {
   "codemirror_mode": {
    "name": "ipython",
    "version": 3
   },
   "file_extension": ".py",
   "mimetype": "text/x-python",
   "name": "python",
   "nbconvert_exporter": "python",
   "pygments_lexer": "ipython3",
   "version": "3.8.8"
  }
 },
 "nbformat": 4,
 "nbformat_minor": 2
}
