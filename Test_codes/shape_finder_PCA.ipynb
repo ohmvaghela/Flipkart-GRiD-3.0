{
 "cells": [
  {
   "cell_type": "code",
   "execution_count": null,
   "source": [
    "import cv2\r\n",
    "from final_function import BotFinder\r\n",
    "import time\r\n",
    "import numpy as np\r\n",
    "import threading \r\n",
    "from grid_maker import GridMaker\r\n",
    "from video2 import vdo_tbar\r\n",
    "import math\r\n",
    "from collections import deque\r\n",
    "import json\r\n",
    "import datetime\r\n",
    "import matplotlib.pyplot as plt\r\n",
    "from sklearn.decomposition import PCA\r\n"
   ],
   "outputs": [
    {
     "output_type": "error",
     "ename": "Error",
     "evalue": "Session cannot generate requests",
     "traceback": [
      "Error: Session cannot generate requests",
      "at w.executeCodeCell (c:\\Users\\OHM\\.vscode\\extensions\\ms-toolsai.jupyter-2021.8.2041215044\\out\\client\\extension.js:52:301310)",
      "at w.execute (c:\\Users\\OHM\\.vscode\\extensions\\ms-toolsai.jupyter-2021.8.2041215044\\out\\client\\extension.js:52:300703)",
      "at w.start (c:\\Users\\OHM\\.vscode\\extensions\\ms-toolsai.jupyter-2021.8.2041215044\\out\\client\\extension.js:52:296367)",
      "at processTicksAndRejections (internal/process/task_queues.js:93:5)",
      "at async t.CellExecutionQueue.executeQueuedCells (c:\\Users\\OHM\\.vscode\\extensions\\ms-toolsai.jupyter-2021.8.2041215044\\out\\client\\extension.js:52:311160)",
      "at async t.CellExecutionQueue.start (c:\\Users\\OHM\\.vscode\\extensions\\ms-toolsai.jupyter-2021.8.2041215044\\out\\client\\extension.js:52:310700)"
     ]
    }
   ],
   "metadata": {}
  },
  {
   "cell_type": "code",
   "execution_count": 7,
   "source": [
    "\r\n",
    "matrix = np.zeros((10000,100))\r\n",
    "for i in range(1,51,1):\r\n",
    "    temp = cv2.imread(f'C:/Users/OHM/Desktop/ML_training/training_data/circles/{i}.png')\r\n",
    "    gray = cv2.cvtColor(temp, cv2.COLOR_BGR2GRAY)\r\n",
    "    _,thresh = cv2.threshold(gray, 10, 255, cv2.THRESH_BINARY_INV)\r\n",
    "    flat = np.ravel(thresh)\r\n",
    "    matrix[:,i-1] = flat \r\n",
    "\r\n",
    "for i in range(1,51,1):\r\n",
    "    temp = cv2.imread(f'C:/Users/OHM/Desktop/ML_training/training_data/triangle/{i}.png')\r\n",
    "    gray = cv2.cvtColor(temp, cv2.COLOR_BGR2GRAY)\r\n",
    "    _,thresh = cv2.threshold(gray, 10, 255, cv2.THRESH_BINARY_INV)\r\n",
    "    flat = np.ravel(thresh)\r\n",
    "    matrix[:,i+49] = flat \r\n",
    "\r\n",
    "shifted_matrix = matrix - matrix.mean"
   ],
   "outputs": [],
   "metadata": {}
  },
  {
   "cell_type": "code",
   "execution_count": null,
   "source": [],
   "outputs": [
    {
     "output_type": "error",
     "ename": "Error",
     "evalue": "Session cannot generate requests",
     "traceback": [
      "Error: Session cannot generate requests",
      "at w.executeCodeCell (c:\\Users\\OHM\\.vscode\\extensions\\ms-toolsai.jupyter-2021.8.2041215044\\out\\client\\extension.js:52:301310)",
      "at w.execute (c:\\Users\\OHM\\.vscode\\extensions\\ms-toolsai.jupyter-2021.8.2041215044\\out\\client\\extension.js:52:300703)",
      "at w.start (c:\\Users\\OHM\\.vscode\\extensions\\ms-toolsai.jupyter-2021.8.2041215044\\out\\client\\extension.js:52:296367)",
      "at processTicksAndRejections (internal/process/task_queues.js:93:5)",
      "at async t.CellExecutionQueue.executeQueuedCells (c:\\Users\\OHM\\.vscode\\extensions\\ms-toolsai.jupyter-2021.8.2041215044\\out\\client\\extension.js:52:311160)",
      "at async t.CellExecutionQueue.start (c:\\Users\\OHM\\.vscode\\extensions\\ms-toolsai.jupyter-2021.8.2041215044\\out\\client\\extension.js:52:310700)"
     ]
    }
   ],
   "metadata": {}
  }
 ],
 "metadata": {
  "orig_nbformat": 4,
  "language_info": {
   "name": "python",
   "version": "3.8.8",
   "mimetype": "text/x-python",
   "codemirror_mode": {
    "name": "ipython",
    "version": 3
   },
   "pygments_lexer": "ipython3",
   "nbconvert_exporter": "python",
   "file_extension": ".py"
  },
  "kernelspec": {
   "name": "python3",
   "display_name": "Python 3.8.8 64-bit ('base': conda)"
  },
  "interpreter": {
   "hash": "11860fa462470fdd9e5d1fcccf6df14d869cca85932e91de0e75d95c6486502b"
  }
 },
 "nbformat": 4,
 "nbformat_minor": 2
}